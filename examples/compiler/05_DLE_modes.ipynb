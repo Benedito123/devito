{
 "cells": [
  {
   "cell_type": "markdown",
   "metadata": {},
   "source": [
    "# Part I - Devito Performance modes\n",
    "\n",
    "This tutorial is the first one out of a series of tutorials describing the code generated when using different DLE modes. In this tutorial we present the performance optimizations applied by the Devito compiler, including the Devito Loop Engine that delivers optimizations for parallelism and cache locality.\n",
    "\n",
    "For the purposes of this tutorial we will compare the generated code between several cobinations of DLE modes.\n",
    "\n",
    "We will use a trivial `Operator` that, at each time step, increments by 1 all points in the physical domain and the code produced in each case."
   ]
  },
  {
   "cell_type": "code",
   "execution_count": 1,
   "metadata": {},
   "outputs": [],
   "source": [
    "# This function will be used to print the difference between the generated code.\n",
    "def _unidiff_output(expected, actual):\n",
    "    \"\"\"\n",
    "    Helper function. Returns a string containing the unified diff of two multiline strings.\n",
    "    \"\"\"\n",
    "    import difflib\n",
    "    expected=expected.splitlines(1)\n",
    "    actual=actual.splitlines(1)\n",
    "\n",
    "    diff=difflib.unified_diff(expected, actual)\n",
    "\n",
    "    return ''.join(diff)"
   ]
  },
  {
   "cell_type": "code",
   "execution_count": 2,
   "metadata": {},
   "outputs": [],
   "source": [
    "from devito import clear_cache\n",
    "import numpy as np\n",
    "clear_cache()\n"
   ]
  },
  {
   "cell_type": "code",
   "execution_count": 3,
   "metadata": {},
   "outputs": [
    {
     "name": "stdout",
     "output_type": "stream",
     "text": [
      "--- \n",
      "+++ \n",
      "@@ -2,6 +2,8 @@\n",
      " #include \"stdlib.h\"\n",
      " #include \"math.h\"\n",
      " #include \"sys/time.h\"\n",
      "+#include \"xmmintrin.h\"\n",
      "+#include \"pmmintrin.h\"\n",
      " \n",
      " struct dataobj\n",
      " {\n",
      "@@ -23,6 +25,9 @@\n",
      " int Kernel(struct dataobj *restrict u_vec, const int time_M, const int time_m, struct profiler * timers, const int x_M, const int x_m, const int y_M, const int y_m)\n",
      " {\n",
      "   float (*restrict u)[u_vec->size[1]][u_vec->size[2]] __attribute__ ((aligned (64))) = (float (*)[u_vec->size[1]][u_vec->size[2]]) u_vec->data;\n",
      "+  /* Flush denormal numbers to zero in hardware */\n",
      "+  _MM_SET_DENORMALS_ZERO_MODE(_MM_DENORMALS_ZERO_ON);\n",
      "+  _MM_SET_FLUSH_ZERO_MODE(_MM_FLUSH_ZERO_ON);\n",
      "   for (int time = time_m, t0 = (time)%(2), t1 = (time + 1)%(2); time <= time_M; time += 1, t0 = (time)%(2), t1 = (time + 1)%(2))\n",
      "   {\n",
      "     struct timeval start_section0, end_section0;\n",
      "@@ -30,6 +35,7 @@\n",
      "     /* Begin section0 */\n",
      "     for (int x = x_m; x <= x_M; x += 1)\n",
      "     {\n",
      "+      #pragma omp simd aligned(u:32)\n",
      "       for (int y = y_m; y <= y_M; y += 1)\n",
      "       {\n",
      "         float r0 = u[t0][x + 1][y + 1] + 1.0e-1F;\n",
      "\n"
     ]
    }
   ],
   "source": [
    "from devito import Grid, TimeFunction, Eq, Operator, clear_cache\n",
    "from examples.cfd import plot_field, init_hat\n",
    "from devito import Eq, solve\n",
    "from devito import configuration\n",
    "\n",
    "# Initialise our problem parameters\n",
    "nx = 200\n",
    "ny = 200\n",
    "grid = Grid(shape=(nx, ny))\n",
    "u = TimeFunction(name='u', grid=grid)\n",
    "eq = Eq(u.forward, (u + 0.1, u + 0.2, u + 0.1))\n",
    "\n",
    "#Set up an operator with DLE set to noop and one with DLE set to advanced.\n",
    "op_noop = Operator(eq, dle = 'noop')\n",
    "op_advanced = Operator(eq, dle = 'advanced')\n",
    "\n",
    "str_op_noop = str(op_noop)\n",
    "str_op_advanced = str(op_advanced)\n",
    "\n",
    "print(_unidiff_output(str_op_noop, str_op_advanced))"
   ]
  },
  {
   "cell_type": "markdown",
   "metadata": {},
   "source": [
    "The code diff in the cell above depicts some differences between these two modes.\n",
    "First of all, we can notice the addition of \n",
    "```\n",
    "+#include \"xmmintrin.h\"\n",
    "+#include \"pmmintrin.h\"\n",
    "```\n",
    "and \n",
    "```\n",
    "+  /* Flush denormal numbers to zero in hardware */\n",
    "+  _MM_SET_DENORMALS_ZERO_MODE(_MM_DENORMALS_ZERO_ON);\n",
    "+  _MM_SET_FLUSH_ZERO_MODE(_MM_FLUSH_ZERO_ON);\n",
    "```\n",
    "Denormals are normally flushed when using SSE-based instruction sets, except when compiling shared objects.\n",
    "\n",
    "\n",
    "We can then see the addition of SIMD Vectorization \n",
    "```\n",
    "+      #pragma omp simd aligned(u:32)\n",
    "```\n",
    "before the loop where we iterate the y-direction."
   ]
  },
  {
   "cell_type": "markdown",
   "metadata": {},
   "source": [
    "In our next comparison we import performance_mode from devito and more optimizations are enabled:\n",
    "TO ADD MORE"
   ]
  },
  {
   "cell_type": "code",
   "execution_count": 5,
   "metadata": {},
   "outputs": [
    {
     "name": "stdout",
     "output_type": "stream",
     "text": [
      "--- \n",
      "+++ \n",
      "@@ -19,26 +19,42 @@\n",
      "   double section0;\n",
      " } ;\n",
      " \n",
      "+void bf0(struct dataobj *restrict u_vec, const int t0, const int t1, const int x0_blk_M, const int x0_blk_m, const int x0_blk_size, const int y0_blk_M, const int y0_blk_m, const int y0_blk_size);\n",
      " \n",
      "-int Kernel(struct dataobj *restrict u_vec, const int time_M, const int time_m, struct profiler * timers, const int x_M, const int x_m, const int y_M, const int y_m)\n",
      "+int Kernel(struct dataobj *restrict u_vec, const int time_M, const int time_m, struct profiler * timers, const int x0_blk_size, const int x_M, const int x_m, const int y0_blk_size, const int y_M, const int y_m)\n",
      " {\n",
      "-  float (*restrict u)[u_vec->size[1]][u_vec->size[2]] __attribute__ ((aligned (64))) = (float (*)[u_vec->size[1]][u_vec->size[2]]) u_vec->data;\n",
      "   for (int time = time_m, t0 = (time)%(2), t1 = (time + 1)%(2); time <= time_M; time += 1, t0 = (time)%(2), t1 = (time + 1)%(2))\n",
      "   {\n",
      "     struct timeval start_section0, end_section0;\n",
      "     gettimeofday(&start_section0, NULL);\n",
      "     /* Begin section0 */\n",
      "-    for (int x = x_m; x <= x_M; x += 1)\n",
      "-    {\n",
      "-      for (int y = y_m; y <= y_M; y += 1)\n",
      "-      {\n",
      "-        float r0 = u[t0][x + 1][y + 1] + 1.0e-1F;\n",
      "-        u[t1][x + 1][y + 1] = (r0, u[t0][x + 1][y + 1] + 2.0e-1F, r0);\n",
      "-      }\n",
      "-    }\n",
      "+    bf0(u_vec,t0,t1,x_M - (x_M - x_m + 1)%(x0_blk_size),x_m,x0_blk_size,y_M - (y_M - y_m + 1)%(y0_blk_size),y_m,y0_blk_size);\n",
      "+    bf0(u_vec,t0,t1,x_M - (x_M - x_m + 1)%(x0_blk_size),x_m,x0_blk_size,y_M,y_M - (y_M - y_m + 1)%(y0_blk_size) + 1,(y_M - y_m + 1)%(y0_blk_size));\n",
      "+    bf0(u_vec,t0,t1,x_M,x_M - (x_M - x_m + 1)%(x0_blk_size) + 1,(x_M - x_m + 1)%(x0_blk_size),y_M - (y_M - y_m + 1)%(y0_blk_size),y_m,y0_blk_size);\n",
      "+    bf0(u_vec,t0,t1,x_M,x_M - (x_M - x_m + 1)%(x0_blk_size) + 1,(x_M - x_m + 1)%(x0_blk_size),y_M,y_M - (y_M - y_m + 1)%(y0_blk_size) + 1,(y_M - y_m + 1)%(y0_blk_size));\n",
      "     /* End section0 */\n",
      "     gettimeofday(&end_section0, NULL);\n",
      "     timers->section0 += (double)(end_section0.tv_sec-start_section0.tv_sec)+(double)(end_section0.tv_usec-start_section0.tv_usec)/1000000;\n",
      "   }\n",
      "   return 0;\n",
      " }\n",
      "+\n",
      "+void bf0(struct dataobj *restrict u_vec, const int t0, const int t1, const int x0_blk_M, const int x0_blk_m, const int x0_blk_size, const int y0_blk_M, const int y0_blk_m, const int y0_blk_size)\n",
      "+{\n",
      "+  float (*restrict u)[u_vec->size[1]][u_vec->size[2]] __attribute__ ((aligned (64))) = (float (*)[u_vec->size[1]][u_vec->size[2]]) u_vec->data;\n",
      "+  for (int x0_blk = x0_blk_m; x0_blk <= x0_blk_M; x0_blk += x0_blk_size)\n",
      "+  {\n",
      "+    for (int y0_blk = y0_blk_m; y0_blk <= y0_blk_M; y0_blk += y0_blk_size)\n",
      "+    {\n",
      "+      for (int x = x0_blk; x <= x0_blk + x0_blk_size - 1; x += 1)\n",
      "+      {\n",
      "+        #pragma omp simd aligned(u:32)\n",
      "+        for (int y = y0_blk; y <= y0_blk + y0_blk_size - 1; y += 1)\n",
      "+        {\n",
      "+          float r0 = u[t0][x + 1][y + 1] + 1.0e-1F;\n",
      "+          u[t1][x + 1][y + 1] = (r0, u[t0][x + 1][y + 1] + 2.0e-1F, r0);\n",
      "+        }\n",
      "+      }\n",
      "+    }\n",
      "+  }\n",
      "+}\n",
      "\n"
     ]
    }
   ],
   "source": [
    "from devito import mode_performance\n",
    "mode_performance()\n",
    "\n",
    "op_speculative = Operator(eq, dle = 'speculative')\n",
    "\n",
    "str_op_noop = str(op_noop)\n",
    "str_op_speculative = str(op_speculative)\n",
    "\n",
    "print(_unidiff_output(str_op_noop, str_op_speculative))"
   ]
  },
  {
   "cell_type": "markdown",
   "metadata": {},
   "source": [
    "You can now notice that the field computation is happening inside blocked loops.\n",
    "The size of the blocks is decided form the autotuner."
   ]
  },
  {
   "cell_type": "code",
   "execution_count": null,
   "metadata": {},
   "outputs": [],
   "source": []
  },
  {
   "cell_type": "code",
   "execution_count": null,
   "metadata": {},
   "outputs": [],
   "source": [
    "print(u_skew.data[0])\n",
    "print(\"----------\")\n",
    "print(u_adv.data[0])\n",
    "print(\"----------\")\n",
    "\n",
    "print(\"Comparison of the results is :\",  np.array_equal(u_skew.data[0], u_adv.data[0]))"
   ]
  },
  {
   "cell_type": "markdown",
   "metadata": {},
   "source": [
    "In particular, we observe that:\n",
    "\n",
    "* `u` has size 3 along the time dimension, since it was built with `save=3`. Therefore `op` could only execute 2 timesteps, namely time=0 and time=1; given `Eq(u.forward, u + 1)`, executing time=2 would cause out-of-bounds access errors. Devito figures this out automatically and sets appropriate minimum and maximum iteration points.\n",
    "* All 16 points in each timeslice of the 4x4 `Grid` have been computed.\n",
    "\n",
    "To access all default arguments used by `op` *without* running the `Operator`, one can run"
   ]
  },
  {
   "cell_type": "code",
   "execution_count": null,
   "metadata": {},
   "outputs": [],
   "source": [
    "#print(op_skew.arguments())\n",
    "#print(op_adv.arguments())"
   ]
  },
  {
   "cell_type": "markdown",
   "metadata": {},
   "source": [
    "`'u'` stores a pointer to the allocated data; `'timers'` stores a pointer to a data structure used for C-level performance profiling.\n",
    "\n",
    "One may want to replace some of these default arguments. For example, we could increase the minimum iteration point along the spatial Dimensions `x` and `y`, and execute only the very first timestep:"
   ]
  },
  {
   "cell_type": "code",
   "execution_count": null,
   "metadata": {},
   "outputs": [],
   "source": [
    "u_skew.data[:] = 0.  # Explicit reset to initial value\n",
    "summary = op_skew.apply(x_m=2, y_m=2, time_M=0)"
   ]
  },
  {
   "cell_type": "markdown",
   "metadata": {},
   "source": [
    "We look again at the computed data to convince ourselves that everything went as intended to go"
   ]
  },
  {
   "cell_type": "code",
   "execution_count": null,
   "metadata": {},
   "outputs": [],
   "source": [
    "u_skew.data"
   ]
  },
  {
   "cell_type": "markdown",
   "metadata": {},
   "source": [
    "Given a generic `Dimension` `d`, the naming convention is such that:\n",
    "\n",
    "* `d_m` is the minimum iteration point\n",
    "* `d_M` is the maximum iteration point\n",
    "\n",
    "Hence, `op.apply(..., d_m=4, d_M=7, ...)` will run `op` in the compact interval `[4, 7]` along `d`. For historical reasons, `d=...` aliases to `d_M=...`; in many Devito examples it happens to see `op.apply(..., time=10, ...)` -- this is just equivalent to `op.apply(..., time_M=10, ...)`.\n",
    "\n",
    "If we try to specify an invalid iteration extreme, Devito will raise an exception."
   ]
  },
  {
   "cell_type": "code",
   "execution_count": null,
   "metadata": {},
   "outputs": [],
   "source": [
    "from devito.exceptions import InvalidArgument\n",
    "try:\n",
    "    op_skew.apply(time_M=2)\n",
    "except InvalidArgument as e:\n",
    "    print(e)"
   ]
  },
  {
   "cell_type": "markdown",
   "metadata": {},
   "source": [
    "The same `Operator` can be applied to a different `TimeFunction`. For example:"
   ]
  },
  {
   "cell_type": "code",
   "execution_count": null,
   "metadata": {},
   "outputs": [],
   "source": [
    "u2 = TimeFunction(name='u', grid=grid)\n",
    "summary = op_skew.apply(u_skew = u2, time = 10)\n",
    "u2.data"
   ]
  },
  {
   "cell_type": "markdown",
   "metadata": {},
   "source": [
    "Note that this was the third call to `op.apply`, but code generation and JIT-compilation only occurred upon the very first call.\n",
    "\n",
    "There is one relevant case in which the maximum iteration point along the time dimension must be specified -- whenever `save` is unset, as in such a case the `Operator` wouldn't know for how many iterations to run."
   ]
  },
  {
   "cell_type": "code",
   "execution_count": null,
   "metadata": {},
   "outputs": [],
   "source": [
    "v = TimeFunction(name='v', grid=grid)\n",
    "op2 = Operator(Eq(v.forward, v + 1))\n",
    "try:\n",
    "    op2.apply(time = 10)\n",
    "except ValueError as e:\n",
    "    print(e)"
   ]
  },
  {
   "cell_type": "code",
   "execution_count": null,
   "metadata": {},
   "outputs": [],
   "source": [
    "summary = op2.apply(time_M=4)\n",
    "v.data"
   ]
  },
  {
   "cell_type": "markdown",
   "metadata": {},
   "source": [
    "The `summary` variable can be inspected to retrieve performance metrics."
   ]
  },
  {
   "cell_type": "code",
   "execution_count": null,
   "metadata": {},
   "outputs": [],
   "source": [
    "summary"
   ]
  },
  {
   "cell_type": "markdown",
   "metadata": {},
   "source": [
    "We observe that basically all entries except for the execution time are fixed at 0. This is because by default Devito avoids to compute performance metrics, to minimize the processing time before returning control to the user (in complex `Operators`, the processing time to retrieve, for instance, the operation count or the memory footprint could be significant). To compute all performance metrics, a user could either export the environment variable `DEVITO_PROFILING` to `'advanced'` or change the profiling level programmatically *before* the `Operator` is constructed"
   ]
  },
  {
   "cell_type": "code",
   "execution_count": null,
   "metadata": {},
   "outputs": [],
   "source": [
    "from devito import configuration\n",
    "configuration['profiling'] = 'advanced'\n",
    "\n",
    "op = Operator(Eq(u_skew.forward, u_skew*u_skew + 1))\n",
    "op.apply(time = 10)"
   ]
  },
  {
   "cell_type": "code",
   "execution_count": null,
   "metadata": {},
   "outputs": [],
   "source": []
  },
  {
   "cell_type": "code",
   "execution_count": null,
   "metadata": {},
   "outputs": [],
   "source": []
  },
  {
   "cell_type": "code",
   "execution_count": null,
   "metadata": {},
   "outputs": [],
   "source": []
  },
  {
   "cell_type": "code",
   "execution_count": null,
   "metadata": {},
   "outputs": [],
   "source": []
  },
  {
   "cell_type": "code",
   "execution_count": null,
   "metadata": {},
   "outputs": [],
   "source": []
  },
  {
   "cell_type": "code",
   "execution_count": null,
   "metadata": {},
   "outputs": [],
   "source": []
  }
 ],
 "metadata": {
  "kernelspec": {
   "display_name": "Python 3",
   "language": "python",
   "name": "python3"
  },
  "language_info": {
   "codemirror_mode": {
    "name": "ipython",
    "version": 3
   },
   "file_extension": ".py",
   "mimetype": "text/x-python",
   "name": "python",
   "nbconvert_exporter": "python",
   "pygments_lexer": "ipython3",
   "version": "3.6.8"
  },
  "varInspector": {
   "cols": {
    "lenName": 16,
    "lenType": 16,
    "lenVar": 40
   },
   "kernels_config": {
    "python": {
     "delete_cmd_postfix": "",
     "delete_cmd_prefix": "del ",
     "library": "var_list.py",
     "varRefreshCmd": "print(var_dic_list())"
    },
    "r": {
     "delete_cmd_postfix": ") ",
     "delete_cmd_prefix": "rm(",
     "library": "var_list.r",
     "varRefreshCmd": "cat(var_dic_list()) "
    }
   },
   "position": {
    "height": "459.85px",
    "left": "1723.22px",
    "right": "20px",
    "top": "120px",
    "width": "352.767px"
   },
   "types_to_exclude": [
    "module",
    "function",
    "builtin_function_or_method",
    "instance",
    "_Feature"
   ],
   "window_display": false
  }
 },
 "nbformat": 4,
 "nbformat_minor": 2
}
